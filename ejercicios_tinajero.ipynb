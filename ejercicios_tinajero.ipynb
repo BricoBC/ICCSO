{
  "cells": [
    {
      "attachments": {},
      "cell_type": "markdown",
      "metadata": {
        "id": "c0O7y607zICM"
      },
      "source": [
        "# Decision Tree Regression\n"
      ]
    },
    {
      "attachments": {},
      "cell_type": "markdown",
      "metadata": {
        "id": "yR4oej85zODn"
      },
      "source": [
        "# Importing the libraries"
      ]
    },
    {
      "cell_type": "code",
      "execution_count": 10,
      "metadata": {
        "id": "Wld1bnS2zG27"
      },
      "outputs": [],
      "source": [
        "import numpy as np\n",
        "import matplotlib.pyplot as plt\n",
        "import pandas as pd"
      ]
    },
    {
      "attachments": {},
      "cell_type": "markdown",
      "metadata": {
        "id": "ar9Q9NcLzVeM"
      },
      "source": [
        "# Importing the dataset"
      ]
    },
    {
      "cell_type": "code",
      "execution_count": null,
      "metadata": {
        "colab": {
          "base_uri": "https://localhost:8080/",
          "height": 363
        },
        "id": "w5wAqaiKzVJc",
        "outputId": "5278edf9-c288-4e06-b222-ebb4e418275b"
      },
      "outputs": [],
      "source": [
        "dataset = pd.read_csv('Position_Salaries.csv') \n",
        "X = dataset.iloc[:, 1:-1].values\n",
        "y= dataset.iloc[:, -1].values"
      ]
    },
    {
      "attachments": {},
      "cell_type": "markdown",
      "metadata": {
        "id": "P2gAjzihzibV"
      },
      "source": [
        "# Training the Decision Tree Regression model on the whole dataset "
      ]
    },
    {
      "cell_type": "code",
      "execution_count": null,
      "metadata": {
        "id": "a335Eaw0zofQ"
      },
      "outputs": [],
      "source": [
        "from sklearn.tree import DecisionTreeRegressor \n",
        "regressor = DecisionTreeRegressor(random_state = 8)\n",
        "regressor.fit(X, y)"
      ]
    },
    {
      "attachments": {},
      "cell_type": "markdown",
      "metadata": {
        "id": "eywDItp1zyNR"
      },
      "source": [
        "# Predicting a new result"
      ]
    },
    {
      "cell_type": "code",
      "execution_count": null,
      "metadata": {
        "id": "Z6FD6q5a0OyV"
      },
      "outputs": [],
      "source": [
        "regressor.predict([[6.5]])"
      ]
    },
    {
      "attachments": {},
      "cell_type": "markdown",
      "metadata": {
        "id": "TRGt1_YI0PdN"
      },
      "source": [
        "# Visualising the Decision Tree Regression results (higher resolution)\n"
      ]
    },
    {
      "cell_type": "code",
      "execution_count": null,
      "metadata": {
        "id": "71Cli2r-zyAZ"
      },
      "outputs": [],
      "source": [
        "\n",
        "X_grid = np.arange(min(X), max(X), 0.01) \n",
        "X_grid = X_grid.reshape((len(X_grid), 1))\n",
        "plt.scatter (X, y, color = 'red') \n",
        "plt.plot(X_grid, regressor.predict(X_grid), color = 'blue')\n",
        "plt.title('Truth or Bluff (Decision Tree Regression)') \n",
        "plt.xlabel('Position level')\n",
        "plt.ylabel('Salary') \n",
        "plt.show()"
      ]
    },
    {
      "attachments": {},
      "cell_type": "markdown",
      "metadata": {
        "id": "WjLFi_631B1J"
      },
      "source": [
        "# Multiple Linear Regression\n",
        "\n",
        "##Importing the libraries import numpy as np\n"
      ]
    },
    {
      "cell_type": "code",
      "execution_count": null,
      "metadata": {
        "id": "L6ttrx7D1LlI"
      },
      "outputs": [],
      "source": [
        "import matplotlib.pyplot as plt \n",
        "import pandas as pd"
      ]
    },
    {
      "attachments": {},
      "cell_type": "markdown",
      "metadata": {
        "id": "9yHWnaHV1Prs"
      },
      "source": [
        "#Importing the dataset"
      ]
    },
    {
      "cell_type": "code",
      "execution_count": null,
      "metadata": {
        "id": "WDiLUinM1PHL"
      },
      "outputs": [],
      "source": [
        "dataset pd.read_csv('50_Startups.csv')\n",
        "X = dataset.iloc[:, :-1].values \n",
        "y= dataset.iloc[:, :-1].values\n",
        "\n",
        "print(X)"
      ]
    },
    {
      "attachments": {},
      "cell_type": "markdown",
      "metadata": {
        "id": "XBkoVwwR1h5R"
      },
      "source": [
        "# Encoding categorical data"
      ]
    },
    {
      "cell_type": "code",
      "execution_count": null,
      "metadata": {
        "id": "TMAZJys21ldr"
      },
      "outputs": [],
      "source": [
        "from sklearn.compose import ColumnTransformer \n",
        "from sklearn.preprocessing import OneHotEncoder\n",
        "\n",
        "ct = ColumnTransformer(transformers=[('encoder', OneHot Encoder(), [3])], remainder =\"passthrough\")\n",
        "X = np.array(ct.fit transform(X))\n",
        "\n",
        "print(X)"
      ]
    },
    {
      "attachments": {},
      "cell_type": "markdown",
      "metadata": {
        "id": "zi0W8uim1qOV"
      },
      "source": [
        "# Splitting the dataset into the Training set and Test set"
      ]
    },
    {
      "cell_type": "code",
      "execution_count": null,
      "metadata": {
        "id": "Q3ji14891o9Z"
      },
      "outputs": [],
      "source": [
        "from sklearn.model_selection import train_test_split\n",
        "X_train, X_test, y_train, y_test = train_test_split(X, y, test_size = 0.2, random_state = 0)"
      ]
    },
    {
      "attachments": {},
      "cell_type": "markdown",
      "metadata": {
        "id": "2AVGkdhp1zMk"
      },
      "source": [
        "# Training the Multiple Linear Regression model on the Training set "
      ]
    },
    {
      "cell_type": "code",
      "execution_count": null,
      "metadata": {},
      "outputs": [],
      "source": [
        "from sklearn.linear_model import LinearRegression \n",
        "regressor = LinearRegression() \n",
        "regressor.fit(X_train, y_train)"
      ]
    },
    {
      "attachments": {},
      "cell_type": "markdown",
      "metadata": {},
      "source": [
        "# Predicting the Test set results y_pred regressor.predict(X_test)"
      ]
    },
    {
      "cell_type": "code",
      "execution_count": null,
      "metadata": {
        "id": "mjOBkd4q1yT0"
      },
      "outputs": [],
      "source": [
        "y_pred = regressor.predict(X_test)\n",
        "np.set_printoptions(precision=2) \n",
        "print(np.concatenate((y_pred.reshape(len(y_pred),1), y_test.reshape(len(y_test),1)),1))"
      ]
    },
    {
      "attachments": {},
      "cell_type": "markdown",
      "metadata": {},
      "source": [
        "# Polynomial Regression\n",
        "## Importing the libraries"
      ]
    },
    {
      "cell_type": "code",
      "execution_count": null,
      "metadata": {},
      "outputs": [],
      "source": [
        "\n",
        "import numpy as np\n",
        "import matplotlib.pyplot as plt\n",
        "import pandas as pd\n"
      ]
    },
    {
      "attachments": {},
      "cell_type": "markdown",
      "metadata": {},
      "source": [
        "#Importing the dataset"
      ]
    },
    {
      "cell_type": "code",
      "execution_count": null,
      "metadata": {},
      "outputs": [],
      "source": [
        "dataset = pd.read_csv('Position Salaries.csv')\n",
        "X dataset.iloc[:, 1:-1].values y dataset.iloc[:, -1].values"
      ]
    },
    {
      "attachments": {},
      "cell_type": "markdown",
      "metadata": {},
      "source": [
        "# Training the Linear Regression model on the whole dataset from sklearn.linear_model import Linear Regression"
      ]
    },
    {
      "cell_type": "code",
      "execution_count": null,
      "metadata": {},
      "outputs": [],
      "source": [
        "lin_reg Linear Regression() lin_reg.fit(x, y)"
      ]
    },
    {
      "attachments": {},
      "cell_type": "markdown",
      "metadata": {},
      "source": [
        "# Training the Polynomial Regression model on the whole dataset"
      ]
    },
    {
      "cell_type": "code",
      "execution_count": null,
      "metadata": {},
      "outputs": [],
      "source": [
        "from sklearn.preprocessing import Polynomial Features poly_reg Polynomial Features (aggren = 4)\n",
        "\n",
        "X_poly poly_reg.fit_transform(X)\n",
        "\n",
        "lin_reg 2 Linear Regression() lin_reg_2.fit(x_poly, y)\n",
        "\n",
        "#Visualising the Linear Regression results plt.scatter(x, y, lor = 'red') plt.plot(X, lin_reg.predict(X), color 'blue')\n",
        "\n",
        "plt.title('Truth or Bluff (Linear Regression)\")\n",
        "\n",
        "plt.xlabel('Position Level') plt.ylabel('Salary')\n",
        "\n",
        "plt.show()"
      ]
    },
    {
      "attachments": {},
      "cell_type": "markdown",
      "metadata": {},
      "source": [
        "# Visualising the Polynomial Regression results plt.scatter(x, y, color = 'red')"
      ]
    },
    {
      "cell_type": "code",
      "execution_count": null,
      "metadata": {},
      "outputs": [],
      "source": [
        "plt.plot(x, lin_reg_2.predict(poly_reg.fit_transform(X\n",
        "\n",
        "plt.title('Truth or Bluff (Polynomial Regression)\")\n",
        "\n",
        "plt.xlabel(\"Position level')\n",
        "\n",
        ")), or 'blue')\n",
        "\n",
        "plt.ylabel('Salary) plt.show()"
      ]
    },
    {
      "attachments": {},
      "cell_type": "markdown",
      "metadata": {},
      "source": [
        "# Visualising the Polynomial Regression results (for higher resolution and smoother curve)"
      ]
    },
    {
      "cell_type": "code",
      "execution_count": null,
      "metadata": {},
      "outputs": [],
      "source": [
        "X_grid np.arange(min(x), max(X), 0.1) \n",
        "X_gridX_grid.reshape((len(X.grid), 1))\n",
        "plt.scatter(x, y, color ='red')\n",
        "\n",
        "plt.plot(X_grid, lin_reg_2.predict(poly_reg.fit_transform(X_grid)), color = 'blue') \n",
        "plt.title('Truth or Bluff (Polynomial Regression)') \n",
        "plt.xlabel('Position level') \n",
        "plt.ylabel('Salary')\n",
        "\n",
        "plt.show()"
      ]
    },
    {
      "attachments": {},
      "cell_type": "markdown",
      "metadata": {},
      "source": [
        "\n",
        "# Predicting a new result with Linear Regression "
      ]
    },
    {
      "cell_type": "code",
      "execution_count": null,
      "metadata": {},
      "outputs": [],
      "source": [
        "lin_reg.predict([[6.5]])"
      ]
    },
    {
      "attachments": {},
      "cell_type": "markdown",
      "metadata": {},
      "source": [
        "# Predicting a new result with Polynomial Regression "
      ]
    },
    {
      "cell_type": "code",
      "execution_count": null,
      "metadata": {},
      "outputs": [],
      "source": [
        "lin_reg_2.predict(poly_reg.fit_transform([[6.5]]))"
      ]
    },
    {
      "attachments": {},
      "cell_type": "markdown",
      "metadata": {},
      "source": [
        "# Simple Linear Regression\n",
        "\n",
        "## Importing the libraries import numpy as np"
      ]
    },
    {
      "cell_type": "code",
      "execution_count": null,
      "metadata": {},
      "outputs": [],
      "source": [
        "import matplotlib.pyplot as plt import pandas as pd"
      ]
    },
    {
      "attachments": {},
      "cell_type": "markdown",
      "metadata": {},
      "source": [
        "# Importing the dataset dataset = pd.read_csv('Salary_Data.csv')"
      ]
    },
    {
      "cell_type": "code",
      "execution_count": null,
      "metadata": {},
      "outputs": [],
      "source": [
        "X = dataset.iloc[:, -1].values y dataset.iloc[:, -1].values"
      ]
    },
    {
      "attachments": {},
      "cell_type": "markdown",
      "metadata": {},
      "source": [
        "# Splitting the dataset into the Training set and Test set from sklearn.model_selection import train_test_split X_train, X_test, y_train, y_test train_test_split(x, y, rest size = 1/3, random state 8)\n",
        "\n",
        "# Training the Simple Linear Regression model on the Training set"
      ]
    },
    {
      "cell_type": "code",
      "execution_count": null,
      "metadata": {},
      "outputs": [],
      "source": [
        "from sklearn.linear_model import LinearRegression\n",
        "\n",
        "regressor Linear Regression()\n",
        "\n",
        "regressor.fit(X_train, y_train)"
      ]
    },
    {
      "attachments": {},
      "cell_type": "markdown",
      "metadata": {},
      "source": [
        "# Predicting the Test set results y_pred = regressor.predict(X_test)\n",
        "\n",
        "# visualising the Training set results plt.scatter (X_train, y train, color = 'red')"
      ]
    },
    {
      "cell_type": "code",
      "execution_count": null,
      "metadata": {},
      "outputs": [],
      "source": [
        "\n",
        "\n",
        "plt.plot(X train, regressor.predict(x train), color = 'blue')\n",
        "\n",
        "plt.title('Salary vs Experience (Training set)\")\n",
        "\n",
        "plt.xlabel(\"Years of Experience')\n",
        "\n",
        "plt.ylabel('Salary') plt.show()\n"
      ]
    },
    {
      "attachments": {},
      "cell_type": "markdown",
      "metadata": {},
      "source": [
        "# Visualising the Test set results"
      ]
    },
    {
      "cell_type": "code",
      "execution_count": null,
      "metadata": {},
      "outputs": [],
      "source": [
        "plt.scatter(X_test, y test, color = 'red') plt.plot(X_train, regressor.predict(X_train), color=\"blue\")\n",
        "\n",
        "plt.title('Salary vs Experience (Test set)) plt.xlabel('Years of Experience')\n",
        "\n",
        "plt.ylabel('salary')\n",
        "\n",
        "plt.show()"
      ]
    },
    {
      "attachments": {},
      "cell_type": "markdown",
      "metadata": {},
      "source": [
        "# Support Vector Regression (SVR)\n",
        "\n",
        "## Importing the libraries \n"
      ]
    },
    {
      "cell_type": "code",
      "execution_count": null,
      "metadata": {},
      "outputs": [],
      "source": [
        "import numpy as np\n",
        "import matplotlib.pyplot as plt\n",
        "import pandas as pd"
      ]
    },
    {
      "attachments": {},
      "cell_type": "markdown",
      "metadata": {},
      "source": [
        "# Importing the dataset dataset = pd.read_csv('Position_Salaries.csv')"
      ]
    },
    {
      "cell_type": "code",
      "execution_count": null,
      "metadata": {},
      "outputs": [],
      "source": [
        "X = dataset.iloc[:, 1:-1].values\n",
        "\n",
        "y= dataset, iloc[:, -1].values\n",
        "\n",
        "print(X) print(y)\n",
        "\n",
        "y= y.reshape(len(y),1)\n",
        "\n",
        "print(y)"
      ]
    },
    {
      "attachments": {},
      "cell_type": "markdown",
      "metadata": {},
      "source": [
        "# Feature Scaling"
      ]
    },
    {
      "cell_type": "code",
      "execution_count": null,
      "metadata": {},
      "outputs": [],
      "source": [
        "from sklearn.preprocessing import StandardScaler SC_X StandardScaler()\n",
        "\n",
        "sc_y StandardScaler()\n",
        "\n",
        "X sc_X.fit_transform(X) y sc_y.fit_transform(y)\n",
        "\n",
        "print(X)\n",
        "\n",
        "print(y)"
      ]
    },
    {
      "attachments": {},
      "cell_type": "markdown",
      "metadata": {},
      "source": [
        "# Training the SVR model on the whole dataset\n"
      ]
    },
    {
      "cell_type": "code",
      "execution_count": null,
      "metadata": {},
      "outputs": [],
      "source": [
        "from sklearn.svm import SVR\n",
        "\n",
        "regresson SVR (kernel = 'rbf') regressor.fit(x, y)\n"
      ]
    },
    {
      "attachments": {},
      "cell_type": "markdown",
      "metadata": {},
      "source": [
        "# Predicting a new result\n"
      ]
    },
    {
      "cell_type": "code",
      "execution_count": null,
      "metadata": {},
      "outputs": [],
      "source": [
        "sc_y.inverse_transform(regressor.predict(sc X. transform([[6.5]])).reshape(1,1))"
      ]
    },
    {
      "attachments": {},
      "cell_type": "markdown",
      "metadata": {},
      "source": [
        "# Visualising the SVR results"
      ]
    },
    {
      "cell_type": "code",
      "execution_count": null,
      "metadata": {},
      "outputs": [],
      "source": [
        "plt.scatter(sc_X.inverse_transform(X), sc_y.inverse transform(y), color. 'red')\n",
        "\n",
        "plt.plot(sc_X.inverse_transform(x),\n",
        "\n",
        "sc_y.inverse transform(regressor.predict(X).reshape(-1,1)), color \"blue\") plt.title(\"Truth or Bluff (SVR)')\n",
        "\n",
        "plt.xlabel(\"Position level) pit.ylabel('Salary')\n",
        "\n",
        "plt.show()\n",
        "\n",
        "Visualising the SVR results (for higher resolution and smoother curve)\n",
        "max(sc_X.inverse_transform(X)), 8.1) X_grid = X_grid.reshape((len(X_grid), 1))\n",
        "\n",
        "X_grid = np.arange(min(sc_X. inverse_transform(X)), plt.scatter (sc_X.inverse_transform(X), sc_y.inverse_transform(y), color = 'red')\n",
        "\n",
        "plt.plot(x_grid,\n",
        "\n",
        "sc_y.inverse_transform(regressor.predict(sc_X.transform(X_grid)).reshape(-\n",
        "\n",
        "1,1)), color = 'blue') plt.title('Truth or Bluff (SVR)') plt.xlabel('Position level') plt.ylabel('Salary') plt.show()"
      ]
    }
  ],
  "metadata": {
    "colab": {
      "provenance": []
    },
    "kernelspec": {
      "display_name": "Python 3",
      "name": "python3"
    },
    "language_info": {
      "name": "python"
    }
  },
  "nbformat": 4,
  "nbformat_minor": 0
}
